{
 "cells": [
  {
   "cell_type": "code",
   "execution_count": 357,
   "metadata": {},
   "outputs": [],
   "source": [
    "import pandas as pd\n",
    "import numpy as np\n",
    "from sklearn.model_selection import train_test_split, StratifiedKFold\n",
    "from sklearn.metrics import classification_report, accuracy_score, precision_score, recall_score, f1_score\n",
    "from sklearn.neighbors import KNeighborsClassifier\n",
    "from sklearn.svm import SVC\n",
    "from sklearn.naive_bayes import GaussianNB\n",
    "from sklearn.utils.class_weight import compute_class_weight\n",
    "from sklearn.utils import resample\n",
    "from imblearn.over_sampling import SMOTE, RandomOverSampler\n",
    "from imblearn.under_sampling import RandomUnderSampler\n",
    "from sklearn.tree import DecisionTreeClassifier\n",
    "from sklearn.ensemble import RandomForestClassifier\n",
    "from sklearn.model_selection import cross_val_score, StratifiedKFold\n",
    "\n"
   ]
  },
  {
   "cell_type": "code",
   "execution_count": 358,
   "metadata": {},
   "outputs": [],
   "source": [
    "# Load the dataset\n",
    "data = pd.read_csv('train.csv')\n",
    "test_data = pd.read_csv('test.csv')\n"
   ]
  },
  {
   "cell_type": "code",
   "execution_count": 359,
   "metadata": {},
   "outputs": [
    {
     "data": {
      "text/html": [
       "<div>\n",
       "<style scoped>\n",
       "    .dataframe tbody tr th:only-of-type {\n",
       "        vertical-align: middle;\n",
       "    }\n",
       "\n",
       "    .dataframe tbody tr th {\n",
       "        vertical-align: top;\n",
       "    }\n",
       "\n",
       "    .dataframe thead th {\n",
       "        text-align: right;\n",
       "    }\n",
       "</style>\n",
       "<table border=\"1\" class=\"dataframe\">\n",
       "  <thead>\n",
       "    <tr style=\"text-align: right;\">\n",
       "      <th></th>\n",
       "      <th>PassengerId</th>\n",
       "      <th>HomePlanet</th>\n",
       "      <th>CryoSleep</th>\n",
       "      <th>Cabin</th>\n",
       "      <th>Destination</th>\n",
       "      <th>Age</th>\n",
       "      <th>VIP</th>\n",
       "      <th>RoomService</th>\n",
       "      <th>FoodCourt</th>\n",
       "      <th>ShoppingMall</th>\n",
       "      <th>Spa</th>\n",
       "      <th>VRDeck</th>\n",
       "      <th>Name</th>\n",
       "      <th>Transported</th>\n",
       "    </tr>\n",
       "  </thead>\n",
       "  <tbody>\n",
       "    <tr>\n",
       "      <th>0</th>\n",
       "      <td>0001_01</td>\n",
       "      <td>Europa</td>\n",
       "      <td>False</td>\n",
       "      <td>B/0/P</td>\n",
       "      <td>TRAPPIST-1e</td>\n",
       "      <td>39.0</td>\n",
       "      <td>False</td>\n",
       "      <td>0.0</td>\n",
       "      <td>0.0</td>\n",
       "      <td>0.0</td>\n",
       "      <td>0.0</td>\n",
       "      <td>0.0</td>\n",
       "      <td>Maham Ofracculy</td>\n",
       "      <td>False</td>\n",
       "    </tr>\n",
       "    <tr>\n",
       "      <th>1</th>\n",
       "      <td>0002_01</td>\n",
       "      <td>Earth</td>\n",
       "      <td>False</td>\n",
       "      <td>F/0/S</td>\n",
       "      <td>TRAPPIST-1e</td>\n",
       "      <td>24.0</td>\n",
       "      <td>False</td>\n",
       "      <td>109.0</td>\n",
       "      <td>9.0</td>\n",
       "      <td>25.0</td>\n",
       "      <td>549.0</td>\n",
       "      <td>44.0</td>\n",
       "      <td>Juanna Vines</td>\n",
       "      <td>True</td>\n",
       "    </tr>\n",
       "    <tr>\n",
       "      <th>2</th>\n",
       "      <td>0003_01</td>\n",
       "      <td>Europa</td>\n",
       "      <td>False</td>\n",
       "      <td>A/0/S</td>\n",
       "      <td>TRAPPIST-1e</td>\n",
       "      <td>58.0</td>\n",
       "      <td>True</td>\n",
       "      <td>43.0</td>\n",
       "      <td>3576.0</td>\n",
       "      <td>0.0</td>\n",
       "      <td>6715.0</td>\n",
       "      <td>49.0</td>\n",
       "      <td>Altark Susent</td>\n",
       "      <td>False</td>\n",
       "    </tr>\n",
       "    <tr>\n",
       "      <th>3</th>\n",
       "      <td>0003_02</td>\n",
       "      <td>Europa</td>\n",
       "      <td>False</td>\n",
       "      <td>A/0/S</td>\n",
       "      <td>TRAPPIST-1e</td>\n",
       "      <td>33.0</td>\n",
       "      <td>False</td>\n",
       "      <td>0.0</td>\n",
       "      <td>1283.0</td>\n",
       "      <td>371.0</td>\n",
       "      <td>3329.0</td>\n",
       "      <td>193.0</td>\n",
       "      <td>Solam Susent</td>\n",
       "      <td>False</td>\n",
       "    </tr>\n",
       "    <tr>\n",
       "      <th>4</th>\n",
       "      <td>0004_01</td>\n",
       "      <td>Earth</td>\n",
       "      <td>False</td>\n",
       "      <td>F/1/S</td>\n",
       "      <td>TRAPPIST-1e</td>\n",
       "      <td>16.0</td>\n",
       "      <td>False</td>\n",
       "      <td>303.0</td>\n",
       "      <td>70.0</td>\n",
       "      <td>151.0</td>\n",
       "      <td>565.0</td>\n",
       "      <td>2.0</td>\n",
       "      <td>Willy Santantines</td>\n",
       "      <td>True</td>\n",
       "    </tr>\n",
       "    <tr>\n",
       "      <th>...</th>\n",
       "      <td>...</td>\n",
       "      <td>...</td>\n",
       "      <td>...</td>\n",
       "      <td>...</td>\n",
       "      <td>...</td>\n",
       "      <td>...</td>\n",
       "      <td>...</td>\n",
       "      <td>...</td>\n",
       "      <td>...</td>\n",
       "      <td>...</td>\n",
       "      <td>...</td>\n",
       "      <td>...</td>\n",
       "      <td>...</td>\n",
       "      <td>...</td>\n",
       "    </tr>\n",
       "    <tr>\n",
       "      <th>8688</th>\n",
       "      <td>9276_01</td>\n",
       "      <td>Europa</td>\n",
       "      <td>False</td>\n",
       "      <td>A/98/P</td>\n",
       "      <td>55 Cancri e</td>\n",
       "      <td>41.0</td>\n",
       "      <td>True</td>\n",
       "      <td>0.0</td>\n",
       "      <td>6819.0</td>\n",
       "      <td>0.0</td>\n",
       "      <td>1643.0</td>\n",
       "      <td>74.0</td>\n",
       "      <td>Gravior Noxnuther</td>\n",
       "      <td>False</td>\n",
       "    </tr>\n",
       "    <tr>\n",
       "      <th>8689</th>\n",
       "      <td>9278_01</td>\n",
       "      <td>Earth</td>\n",
       "      <td>True</td>\n",
       "      <td>G/1499/S</td>\n",
       "      <td>PSO J318.5-22</td>\n",
       "      <td>18.0</td>\n",
       "      <td>False</td>\n",
       "      <td>0.0</td>\n",
       "      <td>0.0</td>\n",
       "      <td>0.0</td>\n",
       "      <td>0.0</td>\n",
       "      <td>0.0</td>\n",
       "      <td>Kurta Mondalley</td>\n",
       "      <td>False</td>\n",
       "    </tr>\n",
       "    <tr>\n",
       "      <th>8690</th>\n",
       "      <td>9279_01</td>\n",
       "      <td>Earth</td>\n",
       "      <td>False</td>\n",
       "      <td>G/1500/S</td>\n",
       "      <td>TRAPPIST-1e</td>\n",
       "      <td>26.0</td>\n",
       "      <td>False</td>\n",
       "      <td>0.0</td>\n",
       "      <td>0.0</td>\n",
       "      <td>1872.0</td>\n",
       "      <td>1.0</td>\n",
       "      <td>0.0</td>\n",
       "      <td>Fayey Connon</td>\n",
       "      <td>True</td>\n",
       "    </tr>\n",
       "    <tr>\n",
       "      <th>8691</th>\n",
       "      <td>9280_01</td>\n",
       "      <td>Europa</td>\n",
       "      <td>False</td>\n",
       "      <td>E/608/S</td>\n",
       "      <td>55 Cancri e</td>\n",
       "      <td>32.0</td>\n",
       "      <td>False</td>\n",
       "      <td>0.0</td>\n",
       "      <td>1049.0</td>\n",
       "      <td>0.0</td>\n",
       "      <td>353.0</td>\n",
       "      <td>3235.0</td>\n",
       "      <td>Celeon Hontichre</td>\n",
       "      <td>False</td>\n",
       "    </tr>\n",
       "    <tr>\n",
       "      <th>8692</th>\n",
       "      <td>9280_02</td>\n",
       "      <td>Europa</td>\n",
       "      <td>False</td>\n",
       "      <td>E/608/S</td>\n",
       "      <td>TRAPPIST-1e</td>\n",
       "      <td>44.0</td>\n",
       "      <td>False</td>\n",
       "      <td>126.0</td>\n",
       "      <td>4688.0</td>\n",
       "      <td>0.0</td>\n",
       "      <td>0.0</td>\n",
       "      <td>12.0</td>\n",
       "      <td>Propsh Hontichre</td>\n",
       "      <td>True</td>\n",
       "    </tr>\n",
       "  </tbody>\n",
       "</table>\n",
       "<p>8693 rows × 14 columns</p>\n",
       "</div>"
      ],
      "text/plain": [
       "     PassengerId HomePlanet CryoSleep     Cabin    Destination   Age    VIP  \\\n",
       "0        0001_01     Europa     False     B/0/P    TRAPPIST-1e  39.0  False   \n",
       "1        0002_01      Earth     False     F/0/S    TRAPPIST-1e  24.0  False   \n",
       "2        0003_01     Europa     False     A/0/S    TRAPPIST-1e  58.0   True   \n",
       "3        0003_02     Europa     False     A/0/S    TRAPPIST-1e  33.0  False   \n",
       "4        0004_01      Earth     False     F/1/S    TRAPPIST-1e  16.0  False   \n",
       "...          ...        ...       ...       ...            ...   ...    ...   \n",
       "8688     9276_01     Europa     False    A/98/P    55 Cancri e  41.0   True   \n",
       "8689     9278_01      Earth      True  G/1499/S  PSO J318.5-22  18.0  False   \n",
       "8690     9279_01      Earth     False  G/1500/S    TRAPPIST-1e  26.0  False   \n",
       "8691     9280_01     Europa     False   E/608/S    55 Cancri e  32.0  False   \n",
       "8692     9280_02     Europa     False   E/608/S    TRAPPIST-1e  44.0  False   \n",
       "\n",
       "      RoomService  FoodCourt  ShoppingMall     Spa  VRDeck               Name  \\\n",
       "0             0.0        0.0           0.0     0.0     0.0    Maham Ofracculy   \n",
       "1           109.0        9.0          25.0   549.0    44.0       Juanna Vines   \n",
       "2            43.0     3576.0           0.0  6715.0    49.0      Altark Susent   \n",
       "3             0.0     1283.0         371.0  3329.0   193.0       Solam Susent   \n",
       "4           303.0       70.0         151.0   565.0     2.0  Willy Santantines   \n",
       "...           ...        ...           ...     ...     ...                ...   \n",
       "8688          0.0     6819.0           0.0  1643.0    74.0  Gravior Noxnuther   \n",
       "8689          0.0        0.0           0.0     0.0     0.0    Kurta Mondalley   \n",
       "8690          0.0        0.0        1872.0     1.0     0.0       Fayey Connon   \n",
       "8691          0.0     1049.0           0.0   353.0  3235.0   Celeon Hontichre   \n",
       "8692        126.0     4688.0           0.0     0.0    12.0   Propsh Hontichre   \n",
       "\n",
       "      Transported  \n",
       "0           False  \n",
       "1            True  \n",
       "2           False  \n",
       "3           False  \n",
       "4            True  \n",
       "...           ...  \n",
       "8688        False  \n",
       "8689        False  \n",
       "8690         True  \n",
       "8691        False  \n",
       "8692         True  \n",
       "\n",
       "[8693 rows x 14 columns]"
      ]
     },
     "execution_count": 359,
     "metadata": {},
     "output_type": "execute_result"
    }
   ],
   "source": [
    "data"
   ]
  },
  {
   "cell_type": "code",
   "execution_count": 360,
   "metadata": {},
   "outputs": [
    {
     "name": "stdout",
     "output_type": "stream",
     "text": [
      "<class 'pandas.core.frame.DataFrame'>\n",
      "RangeIndex: 8693 entries, 0 to 8692\n",
      "Data columns (total 14 columns):\n",
      " #   Column        Non-Null Count  Dtype  \n",
      "---  ------        --------------  -----  \n",
      " 0   PassengerId   8693 non-null   object \n",
      " 1   HomePlanet    8492 non-null   object \n",
      " 2   CryoSleep     8476 non-null   object \n",
      " 3   Cabin         8494 non-null   object \n",
      " 4   Destination   8511 non-null   object \n",
      " 5   Age           8514 non-null   float64\n",
      " 6   VIP           8490 non-null   object \n",
      " 7   RoomService   8512 non-null   float64\n",
      " 8   FoodCourt     8510 non-null   float64\n",
      " 9   ShoppingMall  8485 non-null   float64\n",
      " 10  Spa           8510 non-null   float64\n",
      " 11  VRDeck        8505 non-null   float64\n",
      " 12  Name          8493 non-null   object \n",
      " 13  Transported   8693 non-null   bool   \n",
      "dtypes: bool(1), float64(6), object(7)\n",
      "memory usage: 891.5+ KB\n",
      "None\n",
      "Transported\n",
      "True     4378\n",
      "False    4315\n",
      "Name: count, dtype: int64\n"
     ]
    }
   ],
   "source": [
    "# Check for missing values\n",
    "print(data.info())\n",
    "print(data['Transported'].value_counts())\n"
   ]
  },
  {
   "cell_type": "code",
   "execution_count": 361,
   "metadata": {},
   "outputs": [
    {
     "name": "stdout",
     "output_type": "stream",
     "text": [
      "PassengerId     0.000000\n",
      "HomePlanet      2.312205\n",
      "CryoSleep       2.496261\n",
      "Cabin           2.289198\n",
      "Destination     2.093639\n",
      "Age             2.059128\n",
      "VIP             2.335212\n",
      "RoomService     2.082135\n",
      "FoodCourt       2.105142\n",
      "ShoppingMall    2.392730\n",
      "Spa             2.105142\n",
      "VRDeck          2.162660\n",
      "Name            2.300702\n",
      "Transported     0.000000\n",
      "dtype: float64 % of missing values in each column\n"
     ]
    }
   ],
   "source": [
    "# let's analyze the percentage of missing values in each column\n",
    "missing_percentage = data.isnull().sum() / len(data) * 100\n",
    "print(missing_percentage,\"% of missing values in each column\")\n"
   ]
  },
  {
   "cell_type": "markdown",
   "metadata": {},
   "source": [
    "\n",
    "### As There are some null values almost all columns almost 2-2.5% of the dataset, we can use most frequent value to fill them.\n",
    "\n",
    "\n"
   ]
  },
  {
   "cell_type": "code",
   "execution_count": 362,
   "metadata": {},
   "outputs": [],
   "source": [
    "df = data.copy()\n"
   ]
  },
  {
   "cell_type": "code",
   "execution_count": 363,
   "metadata": {},
   "outputs": [
    {
     "name": "stderr",
     "output_type": "stream",
     "text": [
      "C:\\Users\\foort\\AppData\\Local\\Temp\\ipykernel_20768\\3915248057.py:4: FutureWarning: A value is trying to be set on a copy of a DataFrame or Series through chained assignment using an inplace method.\n",
      "The behavior will change in pandas 3.0. This inplace method will never work because the intermediate object on which we are setting values always behaves as a copy.\n",
      "\n",
      "For example, when doing 'df[col].method(value, inplace=True)', try using 'df.method({col: value}, inplace=True)' or df[col] = df[col].method(value) instead, to perform the operation inplace on the original object.\n",
      "\n",
      "\n",
      "  df[column].fillna(df[column].mode()[0], inplace=True)\n",
      "C:\\Users\\foort\\AppData\\Local\\Temp\\ipykernel_20768\\3915248057.py:4: FutureWarning: Downcasting object dtype arrays on .fillna, .ffill, .bfill is deprecated and will change in a future version. Call result.infer_objects(copy=False) instead. To opt-in to the future behavior, set `pd.set_option('future.no_silent_downcasting', True)`\n",
      "  df[column].fillna(df[column].mode()[0], inplace=True)\n"
     ]
    }
   ],
   "source": [
    "\n",
    "categorical_columns = ['HomePlanet', 'CryoSleep', 'VIP', 'Destination']\n",
    "\n",
    "for column in categorical_columns:\n",
    "    df[column].fillna(df[column].mode()[0], inplace=True)\n",
    "\n",
    "\n",
    "# df.isnull().sum()"
   ]
  },
  {
   "cell_type": "code",
   "execution_count": 364,
   "metadata": {},
   "outputs": [],
   "source": [
    "# handle cabin separately. First split the cabin into deck, num, side\n",
    "df[['Deck', 'Num', 'Side']] = df['Cabin'].str.split('/', expand=True)\n"
   ]
  },
  {
   "cell_type": "code",
   "execution_count": 365,
   "metadata": {},
   "outputs": [],
   "source": [
    "#this lines fill any missing values in each new column\n",
    "df['Deck'] = df['Deck'].fillna(df['Deck'].mode()[0])\n",
    "df['Num'] = df['Num'].fillna(df['Num'].mode()[0])\n",
    "df['Side'] = df['Side'].fillna(df['Side'].mode()[0])\n"
   ]
  },
  {
   "cell_type": "code",
   "execution_count": 366,
   "metadata": {},
   "outputs": [],
   "source": [
    "#This line reconstructs the cabin column\n",
    "\n",
    "df['Cabin'] = df['Deck'] + \"/\" + df['Num'] + \"/\" + df['Side']\n"
   ]
  },
  {
   "cell_type": "code",
   "execution_count": 367,
   "metadata": {},
   "outputs": [],
   "source": [
    "# Original data might look like:\n",
    "# Cabin\n",
    "# \"B/0/P\"\n",
    "# None      <- missing value\n",
    "# \"F/1/S\"\n",
    "\n",
    "# After splitting:\n",
    "# Deck    Num    Side\n",
    "# \"B\"     \"0\"    \"P\"\n",
    "# None    None   None   <- missing values\n",
    "# \"F\"     \"1\"    \"S\"\n",
    "\n",
    "# After filling with mode (assuming most common values are B, 1, P):\n",
    "# Deck    Num    Side\n",
    "# \"B\"     \"0\"    \"P\"\n",
    "# \"B\"     \"1\"    \"P\"    <- filled with most common values\n",
    "# \"F\"     \"1\"    \"S\"\n",
    "\n",
    "# After reconstructing:\n",
    "# Cabin\n",
    "# \"B/0/P\"\n",
    "# \"B/1/P\"    <- reconstructed from filled values\n",
    "# \"F/1/S\""
   ]
  },
  {
   "cell_type": "code",
   "execution_count": 368,
   "metadata": {},
   "outputs": [
    {
     "data": {
      "text/plain": [
       "PassengerId      object\n",
       "HomePlanet       object\n",
       "CryoSleep          bool\n",
       "Cabin            object\n",
       "Destination      object\n",
       "Age             float64\n",
       "VIP                bool\n",
       "RoomService     float64\n",
       "FoodCourt       float64\n",
       "ShoppingMall    float64\n",
       "Spa             float64\n",
       "VRDeck          float64\n",
       "Name             object\n",
       "Transported        bool\n",
       "Deck             object\n",
       "Num              object\n",
       "Side             object\n",
       "dtype: object"
      ]
     },
     "execution_count": 368,
     "metadata": {},
     "output_type": "execute_result"
    }
   ],
   "source": [
    "# let's get the type of the columns\n",
    "df.dtypes\n"
   ]
  },
  {
   "cell_type": "code",
   "execution_count": 369,
   "metadata": {},
   "outputs": [],
   "source": [
    "# let's fill the numerical columns with median\n",
    "numerical_cols = ['Age', 'RoomService', 'FoodCourt', 'ShoppingMall', 'Spa', 'VRDeck']\n",
    "for col in numerical_cols:\n",
    "    df[col] = df[col].fillna(df[col].median())\n",
    "\n",
    "\n",
    "# Fill numerical columns with median\n",
    "numerical_cols = ['Age', 'RoomService', 'FoodCourt', 'ShoppingMall', 'Spa', 'VRDeck']\n",
    "for col in numerical_cols:\n",
    "    test_df[col] = test_df[col].fillna(test_df[col].median())\n",
    "\n"
   ]
  },
  {
   "cell_type": "code",
   "execution_count": 370,
   "metadata": {},
   "outputs": [],
   "source": [
    "# for name (if needed)\n",
    "df['Name'] = df['Name'].fillna('Unknown')\n"
   ]
  },
  {
   "cell_type": "code",
   "execution_count": 371,
   "metadata": {},
   "outputs": [
    {
     "data": {
      "text/plain": [
       "PassengerId     0\n",
       "HomePlanet      0\n",
       "CryoSleep       0\n",
       "Cabin           0\n",
       "Destination     0\n",
       "Age             0\n",
       "VIP             0\n",
       "RoomService     0\n",
       "FoodCourt       0\n",
       "ShoppingMall    0\n",
       "Spa             0\n",
       "VRDeck          0\n",
       "Name            0\n",
       "Transported     0\n",
       "Deck            0\n",
       "Num             0\n",
       "Side            0\n",
       "dtype: int64"
      ]
     },
     "execution_count": 371,
     "metadata": {},
     "output_type": "execute_result"
    }
   ],
   "source": [
    "# Verify if there are any missing values left\n",
    "df.isnull().sum()\n",
    "\n",
    "\n"
   ]
  },
  {
   "cell_type": "code",
   "execution_count": 372,
   "metadata": {},
   "outputs": [],
   "source": [
    "# let's do some visualization\n",
    "import seaborn as sns\n",
    "import matplotlib.pyplot as plt\n"
   ]
  },
  {
   "cell_type": "code",
   "execution_count": 373,
   "metadata": {},
   "outputs": [],
   "source": [
    "sns.set_style(\"whitegrid\")"
   ]
  },
  {
   "cell_type": "code",
   "execution_count": 374,
   "metadata": {},
   "outputs": [
    {
     "data": {
      "image/png": "[encoded data removed]",
      "text/plain": [
       "<Figure size 1000x600 with 1 Axes>"
      ]
     },
     "metadata": {},
     "output_type": "display_data"
    },
    {
     "data": {
      "image/png": "[encoded data removed]",
      "text/plain": [
       "<Figure size 1000x600 with 1 Axes>"
      ]
     },
     "metadata": {},
     "output_type": "display_data"
    },
    {
     "data": {
      "image/png": "[encoded data removed]",
      "text/plain": [
       "<Figure size 1000x600 with 1 Axes>"
      ]
     },
     "metadata": {},
     "output_type": "display_data"
    }
   ],
   "source": [
    "# Distribution of passengers by HomePlanet and Transport status\n",
    "plt.figure(figsize=(10,6))\n",
    "sns.countplot(data=df, x='HomePlanet', hue='Transported')\n",
    "plt.title('Transport Status by Home Planet')\n",
    "plt.xticks(rotation=45)\n",
    "plt.show()\n",
    "\n",
    "# CryoSleep impact\n",
    "plt.figure(figsize=(10,6))\n",
    "sns.countplot(data=df, x='CryoSleep', hue='Transported')\n",
    "plt.title('Transport Status by CryoSleep')\n",
    "plt.show()\n",
    "\n",
    "# VIP status impact\n",
    "plt.figure(figsize=(10,6))\n",
    "sns.countplot(data=df, x='VIP', hue='Transported')\n",
    "plt.title('Transport Status by VIP Status')\n",
    "plt.show()"
   ]
  },
  {
   "cell_type": "code",
   "execution_count": 375,
   "metadata": {},
   "outputs": [
    {
     "name": "stdout",
     "output_type": "stream",
     "text": [
      "<class 'pandas.core.frame.DataFrame'>\n",
      "RangeIndex: 8693 entries, 0 to 8692\n",
      "Data columns (total 17 columns):\n",
      " #   Column        Non-Null Count  Dtype  \n",
      "---  ------        --------------  -----  \n",
      " 0   PassengerId   8693 non-null   object \n",
      " 1   HomePlanet    8693 non-null   object \n",
      " 2   CryoSleep     8693 non-null   bool   \n",
      " 3   Cabin         8693 non-null   object \n",
      " 4   Destination   8693 non-null   object \n",
      " 5   Age           8693 non-null   float64\n",
      " 6   VIP           8693 non-null   bool   \n",
      " 7   RoomService   8693 non-null   float64\n",
      " 8   FoodCourt     8693 non-null   float64\n",
      " 9   ShoppingMall  8693 non-null   float64\n",
      " 10  Spa           8693 non-null   float64\n",
      " 11  VRDeck        8693 non-null   float64\n",
      " 12  Name          8693 non-null   object \n",
      " 13  Transported   8693 non-null   bool   \n",
      " 14  Deck          8693 non-null   object \n",
      " 15  Num           8693 non-null   object \n",
      " 16  Side          8693 non-null   object \n",
      "dtypes: bool(3), float64(6), object(8)\n",
      "memory usage: 976.4+ KB\n",
      "None\n",
      "Transported\n",
      "True     4378\n",
      "False    4315\n",
      "Name: count, dtype: int64\n"
     ]
    }
   ],
   "source": [
    "# Now let's explore the data\n",
    "print(df.info())\n",
    "print(df['Transported'].value_counts())\n",
    "\n"
   ]
  },
  {
   "cell_type": "markdown",
   "metadata": {},
   "source": [
    "### This below approach isn't good before splitting because it creates data leakage\n",
    "```# Let's say we have passenger data with 'HomePlanet' column\n",
    "df = pd.DataFrame({\n",
    "    'HomePlanet': [\n",
    "        'Earth',    # training\n",
    "        'Mars',     # training\n",
    "        'Europa',   # training\n",
    "        'Jupiter'   # test (new planet!)\n",
    "    ]\n",
    "})\n",
    "\n",
    "# BAD APPROACH (your current code):\n",
    "df['HomePlanet'] = df['HomePlanet'].astype('category').cat.codes\n",
    "# Result:\n",
    "# Earth   -> 0\n",
    "# Mars    -> 2\n",
    "# Europa  -> 1\n",
    "# Jupiter -> 3  # Problem! Model \"knows\" about Jupiter before training\n",
    "\n",
    "# Then when you split:\n",
    "X_train = df[:3]  # Earth, Mars, Europa\n",
    "X_test = df[3:]   # Jupiter```\n",
    "\n",
    "Problems with this approach:\n",
    "The encoding \"sees\" Jupiter before training\n",
    "The model gets information it shouldn't have\n",
    "In real-world, you won't know about future new planets\n",
    "\n",
    "# GOOD APPROACH:\n",
    "# 1. Split first\n",
    "X_train = df[:3]  # Earth, Mars, Europa\n",
    "X_test = df[3:]   # Jupiter\n",
    "\n",
    "# 2. Encode using only training data\n",
    "train_categories = pd.Categorical(X_train['HomePlanet'])\n",
    "X_train['HomePlanet'] = train_categories.codes\n",
    "# Result:\n",
    "# Earth   -> 0\n",
    "# Mars    -> 2\n",
    "# Europa  -> 1\n",
    "\n",
    "# 3. Apply same encoding to test\n",
    "X_test['HomePlanet'] = pd.Categorical(\n",
    "    X_test['HomePlanet'], \n",
    "    categories=train_categories.categories\n",
    ").codes\n",
    "# Result:\n",
    "# Jupiter -> -1 (or NaN)  # Correct! Model knows this is an unknown planet\n",
    "\n",
    "Think of it like a student taking an exam:\n",
    "Bad approach: Student sees all questions (including test) before studying\n",
    "Good approach: Student studies from training material, then faces new questions in test"
   ]
  },
  {
   "cell_type": "code",
   "execution_count": 376,
   "metadata": {},
   "outputs": [],
   "source": [
    "# # Let's convert the categorical variables manually\n",
    "# for col in df.select_dtypes(include='object').columns:\n",
    "#     df[col] = df[col].astype('category').cat.codes\n",
    "\n",
    "    \n"
   ]
  },
  {
   "cell_type": "code",
   "execution_count": 377,
   "metadata": {},
   "outputs": [],
   "source": [
    "# Now let's handle the boolean columns\n",
    "boolean_cols = ['CryoSleep', 'VIP', 'Transported']\n",
    "\n",
    "for col in boolean_cols:\n",
    "    df[col] = df[col].astype(int)\n"
   ]
  },
  {
   "cell_type": "code",
   "execution_count": 378,
   "metadata": {},
   "outputs": [
    {
     "data": {
      "text/html": [
       "<div>\n",
       "<style scoped>\n",
       "    .dataframe tbody tr th:only-of-type {\n",
       "        vertical-align: middle;\n",
       "    }\n",
       "\n",
       "    .dataframe tbody tr th {\n",
       "        vertical-align: top;\n",
       "    }\n",
       "\n",
       "    .dataframe thead th {\n",
       "        text-align: right;\n",
       "    }\n",
       "</style>\n",
       "<table border=\"1\" class=\"dataframe\">\n",
       "  <thead>\n",
       "    <tr style=\"text-align: right;\">\n",
       "      <th></th>\n",
       "      <th>PassengerId</th>\n",
       "      <th>HomePlanet</th>\n",
       "      <th>CryoSleep</th>\n",
       "      <th>Cabin</th>\n",
       "      <th>Destination</th>\n",
       "      <th>Age</th>\n",
       "      <th>VIP</th>\n",
       "      <th>RoomService</th>\n",
       "      <th>FoodCourt</th>\n",
       "      <th>ShoppingMall</th>\n",
       "      <th>Spa</th>\n",
       "      <th>VRDeck</th>\n",
       "      <th>Name</th>\n",
       "      <th>Transported</th>\n",
       "      <th>Deck</th>\n",
       "      <th>Num</th>\n",
       "      <th>Side</th>\n",
       "    </tr>\n",
       "  </thead>\n",
       "  <tbody>\n",
       "    <tr>\n",
       "      <th>0</th>\n",
       "      <td>0001_01</td>\n",
       "      <td>Europa</td>\n",
       "      <td>0</td>\n",
       "      <td>B/0/P</td>\n",
       "      <td>TRAPPIST-1e</td>\n",
       "      <td>39.0</td>\n",
       "      <td>0</td>\n",
       "      <td>0.0</td>\n",
       "      <td>0.0</td>\n",
       "      <td>0.0</td>\n",
       "      <td>0.0</td>\n",
       "      <td>0.0</td>\n",
       "      <td>Maham Ofracculy</td>\n",
       "      <td>0</td>\n",
       "      <td>B</td>\n",
       "      <td>0</td>\n",
       "      <td>P</td>\n",
       "    </tr>\n",
       "    <tr>\n",
       "      <th>1</th>\n",
       "      <td>0002_01</td>\n",
       "      <td>Earth</td>\n",
       "      <td>0</td>\n",
       "      <td>F/0/S</td>\n",
       "      <td>TRAPPIST-1e</td>\n",
       "      <td>24.0</td>\n",
       "      <td>0</td>\n",
       "      <td>109.0</td>\n",
       "      <td>9.0</td>\n",
       "      <td>25.0</td>\n",
       "      <td>549.0</td>\n",
       "      <td>44.0</td>\n",
       "      <td>Juanna Vines</td>\n",
       "      <td>1</td>\n",
       "      <td>F</td>\n",
       "      <td>0</td>\n",
       "      <td>S</td>\n",
       "    </tr>\n",
       "    <tr>\n",
       "      <th>2</th>\n",
       "      <td>0003_01</td>\n",
       "      <td>Europa</td>\n",
       "      <td>0</td>\n",
       "      <td>A/0/S</td>\n",
       "      <td>TRAPPIST-1e</td>\n",
       "      <td>58.0</td>\n",
       "      <td>1</td>\n",
       "      <td>43.0</td>\n",
       "      <td>3576.0</td>\n",
       "      <td>0.0</td>\n",
       "      <td>6715.0</td>\n",
       "      <td>49.0</td>\n",
       "      <td>Altark Susent</td>\n",
       "      <td>0</td>\n",
       "      <td>A</td>\n",
       "      <td>0</td>\n",
       "      <td>S</td>\n",
       "    </tr>\n",
       "    <tr>\n",
       "      <th>3</th>\n",
       "      <td>0003_02</td>\n",
       "      <td>Europa</td>\n",
       "      <td>0</td>\n",
       "      <td>A/0/S</td>\n",
       "      <td>TRAPPIST-1e</td>\n",
       "      <td>33.0</td>\n",
       "      <td>0</td>\n",
       "      <td>0.0</td>\n",
       "      <td>1283.0</td>\n",
       "      <td>371.0</td>\n",
       "      <td>3329.0</td>\n",
       "      <td>193.0</td>\n",
       "      <td>Solam Susent</td>\n",
       "      <td>0</td>\n",
       "      <td>A</td>\n",
       "      <td>0</td>\n",
       "      <td>S</td>\n",
       "    </tr>\n",
       "    <tr>\n",
       "      <th>4</th>\n",
       "      <td>0004_01</td>\n",
       "      <td>Earth</td>\n",
       "      <td>0</td>\n",
       "      <td>F/1/S</td>\n",
       "      <td>TRAPPIST-1e</td>\n",
       "      <td>16.0</td>\n",
       "      <td>0</td>\n",
       "      <td>303.0</td>\n",
       "      <td>70.0</td>\n",
       "      <td>151.0</td>\n",
       "      <td>565.0</td>\n",
       "      <td>2.0</td>\n",
       "      <td>Willy Santantines</td>\n",
       "      <td>1</td>\n",
       "      <td>F</td>\n",
       "      <td>1</td>\n",
       "      <td>S</td>\n",
       "    </tr>\n",
       "    <tr>\n",
       "      <th>...</th>\n",
       "      <td>...</td>\n",
       "      <td>...</td>\n",
       "      <td>...</td>\n",
       "      <td>...</td>\n",
       "      <td>...</td>\n",
       "      <td>...</td>\n",
       "      <td>...</td>\n",
       "      <td>...</td>\n",
       "      <td>...</td>\n",
       "      <td>...</td>\n",
       "      <td>...</td>\n",
       "      <td>...</td>\n",
       "      <td>...</td>\n",
       "      <td>...</td>\n",
       "      <td>...</td>\n",
       "      <td>...</td>\n",
       "      <td>...</td>\n",
       "    </tr>\n",
       "    <tr>\n",
       "      <th>8688</th>\n",
       "      <td>9276_01</td>\n",
       "      <td>Europa</td>\n",
       "      <td>0</td>\n",
       "      <td>A/98/P</td>\n",
       "      <td>55 Cancri e</td>\n",
       "      <td>41.0</td>\n",
       "      <td>1</td>\n",
       "      <td>0.0</td>\n",
       "      <td>6819.0</td>\n",
       "      <td>0.0</td>\n",
       "      <td>1643.0</td>\n",
       "      <td>74.0</td>\n",
       "      <td>Gravior Noxnuther</td>\n",
       "      <td>0</td>\n",
       "      <td>A</td>\n",
       "      <td>98</td>\n",
       "      <td>P</td>\n",
       "    </tr>\n",
       "    <tr>\n",
       "      <th>8689</th>\n",
       "      <td>9278_01</td>\n",
       "      <td>Earth</td>\n",
       "      <td>1</td>\n",
       "      <td>G/1499/S</td>\n",
       "      <td>PSO J318.5-22</td>\n",
       "      <td>18.0</td>\n",
       "      <td>0</td>\n",
       "      <td>0.0</td>\n",
       "      <td>0.0</td>\n",
       "      <td>0.0</td>\n",
       "      <td>0.0</td>\n",
       "      <td>0.0</td>\n",
       "      <td>Kurta Mondalley</td>\n",
       "      <td>0</td>\n",
       "      <td>G</td>\n",
       "      <td>1499</td>\n",
       "      <td>S</td>\n",
       "    </tr>\n",
       "    <tr>\n",
       "      <th>8690</th>\n",
       "      <td>9279_01</td>\n",
       "      <td>Earth</td>\n",
       "      <td>0</td>\n",
       "      <td>G/1500/S</td>\n",
       "      <td>TRAPPIST-1e</td>\n",
       "      <td>26.0</td>\n",
       "      <td>0</td>\n",
       "      <td>0.0</td>\n",
       "      <td>0.0</td>\n",
       "      <td>1872.0</td>\n",
       "      <td>1.0</td>\n",
       "      <td>0.0</td>\n",
       "      <td>Fayey Connon</td>\n",
       "      <td>1</td>\n",
       "      <td>G</td>\n",
       "      <td>1500</td>\n",
       "      <td>S</td>\n",
       "    </tr>\n",
       "    <tr>\n",
       "      <th>8691</th>\n",
       "      <td>9280_01</td>\n",
       "      <td>Europa</td>\n",
       "      <td>0</td>\n",
       "      <td>E/608/S</td>\n",
       "      <td>55 Cancri e</td>\n",
       "      <td>32.0</td>\n",
       "      <td>0</td>\n",
       "      <td>0.0</td>\n",
       "      <td>1049.0</td>\n",
       "      <td>0.0</td>\n",
       "      <td>353.0</td>\n",
       "      <td>3235.0</td>\n",
       "      <td>Celeon Hontichre</td>\n",
       "      <td>0</td>\n",
       "      <td>E</td>\n",
       "      <td>608</td>\n",
       "      <td>S</td>\n",
       "    </tr>\n",
       "    <tr>\n",
       "      <th>8692</th>\n",
       "      <td>9280_02</td>\n",
       "      <td>Europa</td>\n",
       "      <td>0</td>\n",
       "      <td>E/608/S</td>\n",
       "      <td>TRAPPIST-1e</td>\n",
       "      <td>44.0</td>\n",
       "      <td>0</td>\n",
       "      <td>126.0</td>\n",
       "      <td>4688.0</td>\n",
       "      <td>0.0</td>\n",
       "      <td>0.0</td>\n",
       "      <td>12.0</td>\n",
       "      <td>Propsh Hontichre</td>\n",
       "      <td>1</td>\n",
       "      <td>E</td>\n",
       "      <td>608</td>\n",
       "      <td>S</td>\n",
       "    </tr>\n",
       "  </tbody>\n",
       "</table>\n",
       "<p>8693 rows × 17 columns</p>\n",
       "</div>"
      ],
      "text/plain": [
       "     PassengerId HomePlanet  CryoSleep     Cabin    Destination   Age  VIP  \\\n",
       "0        0001_01     Europa          0     B/0/P    TRAPPIST-1e  39.0    0   \n",
       "1        0002_01      Earth          0     F/0/S    TRAPPIST-1e  24.0    0   \n",
       "2        0003_01     Europa          0     A/0/S    TRAPPIST-1e  58.0    1   \n",
       "3        0003_02     Europa          0     A/0/S    TRAPPIST-1e  33.0    0   \n",
       "4        0004_01      Earth          0     F/1/S    TRAPPIST-1e  16.0    0   \n",
       "...          ...        ...        ...       ...            ...   ...  ...   \n",
       "8688     9276_01     Europa          0    A/98/P    55 Cancri e  41.0    1   \n",
       "8689     9278_01      Earth          1  G/1499/S  PSO J318.5-22  18.0    0   \n",
       "8690     9279_01      Earth          0  G/1500/S    TRAPPIST-1e  26.0    0   \n",
       "8691     9280_01     Europa          0   E/608/S    55 Cancri e  32.0    0   \n",
       "8692     9280_02     Europa          0   E/608/S    TRAPPIST-1e  44.0    0   \n",
       "\n",
       "      RoomService  FoodCourt  ShoppingMall     Spa  VRDeck               Name  \\\n",
       "0             0.0        0.0           0.0     0.0     0.0    Maham Ofracculy   \n",
       "1           109.0        9.0          25.0   549.0    44.0       Juanna Vines   \n",
       "2            43.0     3576.0           0.0  6715.0    49.0      Altark Susent   \n",
       "3             0.0     1283.0         371.0  3329.0   193.0       Solam Susent   \n",
       "4           303.0       70.0         151.0   565.0     2.0  Willy Santantines   \n",
       "...           ...        ...           ...     ...     ...                ...   \n",
       "8688          0.0     6819.0           0.0  1643.0    74.0  Gravior Noxnuther   \n",
       "8689          0.0        0.0           0.0     0.0     0.0    Kurta Mondalley   \n",
       "8690          0.0        0.0        1872.0     1.0     0.0       Fayey Connon   \n",
       "8691          0.0     1049.0           0.0   353.0  3235.0   Celeon Hontichre   \n",
       "8692        126.0     4688.0           0.0     0.0    12.0   Propsh Hontichre   \n",
       "\n",
       "      Transported Deck   Num Side  \n",
       "0               0    B     0    P  \n",
       "1               1    F     0    S  \n",
       "2               0    A     0    S  \n",
       "3               0    A     0    S  \n",
       "4               1    F     1    S  \n",
       "...           ...  ...   ...  ...  \n",
       "8688            0    A    98    P  \n",
       "8689            0    G  1499    S  \n",
       "8690            1    G  1500    S  \n",
       "8691            0    E   608    S  \n",
       "8692            1    E   608    S  \n",
       "\n",
       "[8693 rows x 17 columns]"
      ]
     },
     "execution_count": 378,
     "metadata": {},
     "output_type": "execute_result"
    }
   ],
   "source": [
    "df"
   ]
  },
  {
   "cell_type": "code",
   "execution_count": 379,
   "metadata": {},
   "outputs": [],
   "source": [
    "# define the features and target\n",
    "X = df.drop(['Transported', \"PassengerId\"], axis=1)\n",
    "y = df['Transported']\n"
   ]
  },
  {
   "cell_type": "code",
   "execution_count": 380,
   "metadata": {},
   "outputs": [
    {
     "name": "stdout",
     "output_type": "stream",
     "text": [
      "Class distribution before balancing:\n",
      "Transported\n",
      "1    4378\n",
      "0    4315\n",
      "Name: count, dtype: int64\n"
     ]
    }
   ],
   "source": [
    "## handle imbalanced dataset\n",
    "print(\"Class distribution before balancing:\")\n",
    "print(y.value_counts())\n"
   ]
  },
  {
   "cell_type": "code",
   "execution_count": 381,
   "metadata": {},
   "outputs": [
    {
     "data": {
      "text/plain": [
       "50.362360519958585"
      ]
     },
     "execution_count": 381,
     "metadata": {},
     "output_type": "execute_result"
    }
   ],
   "source": [
    "(4378 / 8693) * 100\n"
   ]
  },
  {
   "cell_type": "code",
   "execution_count": 382,
   "metadata": {},
   "outputs": [],
   "source": [
    "# Train test split\n",
    "X_train, X_test, y_train, y_test = train_test_split(X, y, test_size=0.2, stratify=y, random_state=42)\n"
   ]
  },
  {
   "cell_type": "code",
   "execution_count": 383,
   "metadata": {},
   "outputs": [],
   "source": [
    "# For each categorical column\n",
    "for col in X_train.select_dtypes(include='object').columns:\n",
    "    # Fit encoder on training data\n",
    "    train_categories = pd.Categorical(X_train[col])\n",
    "    \n",
    "    # Transform train data\n",
    "    X_train[col] = train_categories.codes\n",
    "    \n",
    "    # Transform test data using training data categories\n",
    "    X_test[col] = pd.Categorical(X_test[col], categories=train_categories.categories).codes"
   ]
  },
  {
   "cell_type": "code",
   "execution_count": 384,
   "metadata": {},
   "outputs": [
    {
     "data": {
      "text/plain": [
       "HomePlanet  CryoSleep  Cabin  Destination  Age   VIP  RoomService  FoodCourt  ShoppingMall  Spa     VRDeck  Name  Deck  Num   Side\n",
       "0           0          0      2            39.0  0    0.0          2344.0     0.0           65.0    6898.0  761   0     0     0       1\n",
       "1           0          926    0            30.0  0    0.0          787.0      116.0         1924.0  2.0     5610  3     202   1       1\n",
       "                       988    2            46.0  0    0.0          3477.0     0.0           1.0     5543.0  2816  3     723   1       1\n",
       "                       973    2            35.0  0    0.0          725.0      3415.0        0.0     1.0     4120  3     605   1       1\n",
       "                       963    2            38.0  0    0.0          93.0       0.0           0.0     7303.0  5403  3     496   1       1\n",
       "                                                                                                                                     ..\n",
       "0           0          4826   2            50.0  0    293.0        0.0        21.0          573.0   0.0     2853  6     1232  0       1\n",
       "                       4825   2            40.0  0    0.0          0.0        895.0         0.0     0.0     1459  6     1229  1       1\n",
       "                       4820   2            21.0  0    63.0         15.0       407.0         397.0   0.0     2038  6     1224  1       1\n",
       "                       4819   1            31.0  0    0.0          140.0      394.0         0.0     0.0     236   6     1224  0       1\n",
       "2           1          3782   2            27.0  0    0.0          0.0        0.0           0.0     0.0     6262  5     1741  1       1\n",
       "Name: count, Length: 6954, dtype: int64"
      ]
     },
     "execution_count": 384,
     "metadata": {},
     "output_type": "execute_result"
    }
   ],
   "source": [
    "X_train.value_counts()\n",
    "# y_test.value_counts()\n"
   ]
  },
  {
   "cell_type": "markdown",
   "metadata": {},
   "source": [
    "### Let's use  random forest, decision tree, k-means, hyperparameter tuning and cross validation to train the model\n"
   ]
  },
  {
   "cell_type": "code",
   "execution_count": 385,
   "metadata": {},
   "outputs": [],
   "source": [
    "## Undersampling using sklearn\n",
    "\n",
    "undersampler  = RandomUnderSampler(random_state=42)\n",
    "X_train_undersampled, y_train_undersampled = undersampler.fit_resample(X_train, y_train)\n",
    "\n",
    "\n",
    "\n"
   ]
  },
  {
   "cell_type": "code",
   "execution_count": 386,
   "metadata": {},
   "outputs": [
    {
     "data": {
      "text/plain": [
       "Transported\n",
       "0    3452\n",
       "1    3452\n",
       "Name: count, dtype: int64"
      ]
     },
     "execution_count": 386,
     "metadata": {},
     "output_type": "execute_result"
    }
   ],
   "source": [
    "y_train_undersampled.value_counts()\n"
   ]
  },
  {
   "cell_type": "code",
   "execution_count": 387,
   "metadata": {},
   "outputs": [],
   "source": [
    "# oversampling using imblearn\n",
    "\n",
    "oversampler = RandomOverSampler(random_state=42)\n",
    "X_train_oversampled, y_train_oversampled = oversampler.fit_resample(X_train, y_train)\n"
   ]
  },
  {
   "cell_type": "code",
   "execution_count": 388,
   "metadata": {},
   "outputs": [
    {
     "data": {
      "text/plain": [
       "Transported\n",
       "1    3502\n",
       "0    3502\n",
       "Name: count, dtype: int64"
      ]
     },
     "execution_count": 388,
     "metadata": {},
     "output_type": "execute_result"
    }
   ],
   "source": [
    "y_train_oversampled.value_counts()\n"
   ]
  },
  {
   "cell_type": "code",
   "execution_count": 389,
   "metadata": {},
   "outputs": [],
   "source": [
    "# SMOTE\n",
    "smote = SMOTE(random_state=42)\n",
    "X_train_smote, y_train_smote = smote.fit_resample(X_train, y_train)\n"
   ]
  },
  {
   "cell_type": "code",
   "execution_count": 390,
   "metadata": {},
   "outputs": [
    {
     "data": {
      "text/plain": [
       "Transported\n",
       "1    3502\n",
       "0    3502\n",
       "Name: count, dtype: int64"
      ]
     },
     "execution_count": 390,
     "metadata": {},
     "output_type": "execute_result"
    }
   ],
   "source": [
    "y_train_smote.value_counts()\n"
   ]
  },
  {
   "cell_type": "code",
   "execution_count": 391,
   "metadata": {},
   "outputs": [],
   "source": [
    "# knn=KNeighborsClassifier()\n",
    "\n",
    "knn = KNeighborsClassifier(n_neighbors=5) # default k is 5\n"
   ]
  },
  {
   "cell_type": "code",
   "execution_count": 392,
   "metadata": {},
   "outputs": [],
   "source": [
    "# perform stratified kfold cross validation\n",
    "\n",
    "skf = StratifiedKFold(n_splits=3, shuffle=True, random_state=42)\n",
    "\n",
    "accuracy_scores, precision_scores, recall_scores, f1_scores = [], [], [], []\n"
   ]
  },
  {
   "cell_type": "code",
   "execution_count": 393,
   "metadata": {},
   "outputs": [],
   "source": [
    "\n",
    "for train_index, test_index in skf.split(X_train_smote, y_train_smote):\n",
    "    X_train_fold, X_val_fold = X_train_smote.iloc[train_index], X_train_smote.iloc[test_index]\n",
    "    y_train_fold, y_val_fold = y_train_smote.iloc[train_index], y_train_smote.iloc[test_index]\n",
    "\n",
    "\n",
    "    knn.fit(X_train_fold, y_train_fold) # model \n",
    "    y_pred = knn.predict(X_val_fold)\n",
    "\n",
    "    accuracy_scores.append(accuracy_score(y_val_fold, y_pred))\n",
    "    precision_scores.append(precision_score(y_val_fold, y_pred))\n",
    "    recall_scores.append(recall_score(y_val_fold, y_pred))\n",
    "    f1_scores.append(f1_score(y_val_fold, y_pred))\n",
    "\n",
    "\n"
   ]
  },
  {
   "cell_type": "code",
   "execution_count": 394,
   "metadata": {},
   "outputs": [
    {
     "name": "stdout",
     "output_type": "stream",
     "text": [
      "\n",
      "KNN Results:\n",
      "Accuracy: 0.7483 +/- 0.0039\n",
      "Precision: 0.7347 +/- 0.0032\n",
      "Recall: 0.7773 +/- 0.0048\n",
      "F1 Score: 0.7554 +/- 0.0040\n"
     ]
    },
    {
     "data": {
      "text/plain": [
       "<module 'numpy' from 'c:\\\\Users\\\\foort\\\\Miniconda3\\\\envs\\\\py39_env\\\\lib\\\\site-packages\\\\numpy\\\\__init__.py'>"
      ]
     },
     "execution_count": 394,
     "metadata": {},
     "output_type": "execute_result"
    }
   ],
   "source": [
    "print(\"\\nKNN Results:\")\n",
    "print(f\"Accuracy: {np.mean(accuracy_scores):.4f} +/- {np.std(accuracy_scores):.4f}\")\n",
    "print(f\"Precision: {np.mean(precision_scores):.4f} +/- {np.std(precision_scores):.4f}\")\n",
    "print(f\"Recall: {np.mean(recall_scores):.4f} +/- {np.std(recall_scores):.4f}\")\n",
    "print(f\"F1 Score: {np.mean(f1_scores):.4f} +/- {np.std(f1_scores):.4f}\")\n",
    "np\n"
   ]
  },
  {
   "cell_type": "code",
   "execution_count": 395,
   "metadata": {},
   "outputs": [],
   "source": [
    "# Svm \n",
    "\n",
    "svm = SVC(kernel='rbf', probability=True)\n",
    "\n",
    "# Perform stratified kfold cross validation\n",
    "accuracy_scores, precision_scores, recall_scores, f1_scores = [], [], [], []\n",
    "\n",
    "for train_index, test_index in skf.split(X_train_smote, y_train_smote):\n",
    "    X_train_fold, X_val_fold = X_train_smote.iloc[train_index], X_train_smote.iloc[test_index]\n",
    "    y_train_fold, y_val_fold = y_train_smote.iloc[train_index], y_train_smote.iloc[test_index]\n",
    "\n",
    "    svm.fit(X_train_fold, y_train_fold)\n",
    "    y_pred = svm.predict(X_val_fold)\n",
    "\n",
    "    accuracy_scores.append(accuracy_score(y_val_fold, y_pred))\n",
    "    precision_scores.append(precision_score(y_val_fold, y_pred))\n",
    "    recall_scores.append(recall_score(y_val_fold, y_pred))\n",
    "    f1_scores.append(f1_score(y_val_fold, y_pred))\n"
   ]
  },
  {
   "cell_type": "code",
   "execution_count": 396,
   "metadata": {},
   "outputs": [
    {
     "name": "stdout",
     "output_type": "stream",
     "text": [
      "SVM Results:\n",
      "Accuracy: 0.7751 +/- 0.0054\n",
      "Precision: 0.7214 +/- 0.0045\n",
      "Recall: 0.8963 +/- 0.0061\n",
      "F1 Score: 0.7994 +/- 0.0049\n"
     ]
    }
   ],
   "source": [
    "\n",
    "print(\"SVM Results:\")\n",
    "print(f\"Accuracy: {np.mean(accuracy_scores):.4f} +/- {np.std(accuracy_scores):.4f}\")\n",
    "print(f\"Precision: {np.mean(precision_scores):.4f} +/- {np.std(precision_scores):.4f}\")\n",
    "print(f\"Recall: {np.mean(recall_scores):.4f} +/- {np.std(recall_scores):.4f}\")\n",
    "print(f\"F1 Score: {np.mean(f1_scores):.4f} +/- {np.std(f1_scores):.4f}\")\n",
    "\n"
   ]
  },
  {
   "cell_type": "code",
   "execution_count": 397,
   "metadata": {},
   "outputs": [
    {
     "name": "stdout",
     "output_type": "stream",
     "text": [
      "Naive Bayes Results:\n",
      "Accuracy: 0.7080 +/- 0.0037\n",
      "Precision: 0.6461 +/- 0.0017\n",
      "Recall: 0.9198 +/- 0.0078\n",
      "F1 Score: 0.7590 +/- 0.0038\n"
     ]
    }
   ],
   "source": [
    "### Naive Bayes\n",
    "nb = GaussianNB()\n",
    "\n",
    "# perform stratified kfold cross validation\n",
    "accuracy_scores, precision_scores, recall_scores, f1_scores = [], [], [], []\n",
    "\n",
    "for train_index, test_index in skf.split(X_train_smote, y_train_smote):\n",
    "    X_train_fold, X_val_fold = X_train_smote.iloc[train_index], X_train_smote.iloc[test_index]\n",
    "    y_train_fold, y_val_fold = y_train_smote.iloc[train_index], y_train_smote.iloc[test_index]\n",
    "\n",
    "    nb.fit(X_train_fold, y_train_fold)\n",
    "    y_pred = nb.predict(X_val_fold)\n",
    "\n",
    "    accuracy_scores.append(accuracy_score(y_val_fold, y_pred))\n",
    "    precision_scores.append(precision_score(y_val_fold, y_pred))\n",
    "    recall_scores.append(recall_score(y_val_fold, y_pred))\n",
    "    f1_scores.append(f1_score(y_val_fold, y_pred))\n",
    "\n",
    "\n",
    "print(\"Naive Bayes Results:\")\n",
    "print(f\"Accuracy: {np.mean(accuracy_scores):.4f} +/- {np.std(accuracy_scores):.4f}\")\n",
    "print(f\"Precision: {np.mean(precision_scores):.4f} +/- {np.std(precision_scores):.4f}\")\n",
    "print(f\"Recall: {np.mean(recall_scores):.4f} +/- {np.std(recall_scores):.4f}\")\n",
    "print(f\"F1 Score: {np.mean(f1_scores):.4f} +/- {np.std(f1_scores):.4f}\")\n"
   ]
  },
  {
   "cell_type": "code",
   "execution_count": 398,
   "metadata": {},
   "outputs": [],
   "source": [
    "# Decision Tree\n",
    "dt = DecisionTreeClassifier(random_state=42)\n",
    "accuracy_scores, precision_scores, recall_scores, f1_scores = [], [], [], []\n",
    "\n",
    "for train_index, test_index in skf.split(X_train_smote, y_train_smote):\n",
    "    X_train_fold, X_val_fold = X_train_smote.iloc[train_index],X_train_smote.iloc[test_index]\n",
    "    y_train_fold, y_val_fold = y_train_smote.iloc[train_index], y_train_smote.iloc[test_index]\n",
    "\n",
    "    dt.fit(X_train_fold, y_train_fold)\n",
    "    y_pred = dt.predict(X_val_fold)\n",
    "\n",
    "    accuracy_scores.append(accuracy_score(y_val_fold, y_pred))\n",
    "    precision_scores.append(precision_score(y_val_fold, y_pred))\n",
    "    recall_scores.append(recall_score(y_val_fold, y_pred))\n",
    "    f1_scores.append(f1_score(y_val_fold, y_pred))\n",
    "\n"
   ]
  },
  {
   "cell_type": "code",
   "execution_count": 399,
   "metadata": {},
   "outputs": [
    {
     "name": "stdout",
     "output_type": "stream",
     "text": [
      "\n",
      "Decision Tree Results:\n",
      "Accuracy: 0.7316 +/- 0.0092\n",
      "Precision: 0.7291 +/- 0.0082\n",
      "Recall: 0.7370 +/- 0.0123\n",
      "F1 Score: 0.7330 +/- 0.0099\n"
     ]
    }
   ],
   "source": [
    "print(\"\\nDecision Tree Results:\")\n",
    "print(f\"Accuracy: {np.mean(accuracy_scores):.4f} +/- {np.std(accuracy_scores):.4f}\")\n",
    "print(f\"Precision: {np.mean(precision_scores):.4f} +/- {np.std(precision_scores):.4f}\")\n",
    "print(f\"Recall: {np.mean(recall_scores):.4f} +/- {np.std(recall_scores):.4f}\")\n",
    "print(f\"F1 Score: {np.mean(f1_scores):.4f} +/- {np.std(f1_scores):.4f}\")\n"
   ]
  },
  {
   "cell_type": "code",
   "execution_count": 400,
   "metadata": {},
   "outputs": [],
   "source": [
    "# Random Forest\n",
    "rf = RandomForestClassifier(n_estimators=1000, random_state=42)\n",
    "accuracy_scores, precision_scores, recall_scores, f1_scores = [], [], [], []\n",
    "\n",
    "\n",
    "for train_index, test_index in skf.split(X_train_smote, y_train_smote):\n",
    "    X_train_fold, X_val_fold = X_train_smote.iloc[train_index], X_train_smote.iloc[test_index]\n",
    "    y_train_fold, y_val_fold = y_train_smote.iloc[train_index], y_train_smote.iloc[test_index]\n",
    "\n",
    "    rf.fit(X_train_fold, y_train_fold)\n",
    "    y_pred = rf.predict(X_val_fold)\n",
    "\n",
    "    accuracy_scores.append(accuracy_score(y_val_fold, y_pred))\n",
    "    precision_scores.append(precision_score(y_val_fold, y_pred))\n",
    "    recall_scores.append(recall_score(y_val_fold, y_pred))\n",
    "    f1_scores.append(f1_score(y_val_fold, y_pred))"
   ]
  },
  {
   "cell_type": "code",
   "execution_count": 401,
   "metadata": {},
   "outputs": [
    {
     "name": "stdout",
     "output_type": "stream",
     "text": [
      "\n",
      "Random Forest Results:\n",
      "Accuracy: 0.7944 +/- 0.0018\n",
      "Precision: 0.8097 +/- 0.0060\n",
      "Recall: 0.7698 +/- 0.0047\n",
      "F1 Score: 0.7892 +/- 0.0009\n"
     ]
    }
   ],
   "source": [
    "print(\"\\nRandom Forest Results:\")\n",
    "print(f\"Accuracy: {np.mean(accuracy_scores):.4f} +/- {np.std(accuracy_scores):.4f}\")\n",
    "print(f\"Precision: {np.mean(precision_scores):.4f} +/- {np.std(precision_scores):.4f}\")\n",
    "print(f\"Recall: {np.mean(recall_scores):.4f} +/- {np.std(recall_scores):.4f}\")\n",
    "print(f\"F1 Score: {np.mean(f1_scores):.4f} +/- {np.std(f1_scores):.4f}\")\n"
   ]
  },
  {
   "cell_type": "code",
   "execution_count": 402,
   "metadata": {},
   "outputs": [
    {
     "name": "stdout",
     "output_type": "stream",
     "text": [
      "\n",
      "Model Comparison:\n",
      "           Model  Mean Accuracy   Std Dev\n",
      "0            KNN       0.742435  0.009869\n",
      "1            SVM       0.772701  0.000545\n",
      "2    Naive Bayes       0.707311  0.005478\n",
      "3  Decision Tree       0.734581  0.003783\n",
      "4  Random Forest       0.793547  0.005464\n"
     ]
    }
   ],
   "source": [
    "#Compare all models\n",
    "def evaluate_model(model, X, y, cv):\n",
    "    scores = cross_val_score(model, X, y, cv=cv, scoring='accuracy')\n",
    "    return scores.mean(), scores.std()\n",
    "\n",
    "# Create dictionary of models\n",
    "models = {\n",
    "    'KNN': KNeighborsClassifier(n_neighbors=5),\n",
    "    'SVM': SVC(kernel='rbf', probability=True),\n",
    "    'Naive Bayes': GaussianNB(),\n",
    "    'Decision Tree': DecisionTreeClassifier(random_state=42),\n",
    "    'Random Forest': RandomForestClassifier(n_estimators=100, random_state=42)\n",
    "}\n",
    "results= []\n",
    "for name, model in models.items():\n",
    "     mean_score, std_score = evaluate_model(model, X_train_smote, y_train_smote, cv=3)\n",
    "     results.append({\n",
    "        'Model': name,\n",
    "        'Mean Accuracy': mean_score,\n",
    "        'Std Dev': std_score\n",
    "     })\n",
    "\n",
    "\n",
    "# Create comparison DataFrame\n",
    "comparison_df = pd.DataFrame(results)\n",
    "print(\"\\nModel Comparison:\")\n",
    "print(comparison_df)"
   ]
  },
  {
   "cell_type": "code",
   "execution_count": 403,
   "metadata": {},
   "outputs": [
    {
     "data": {
      "image/png": "[encoded data removed]",
      "text/plain": [
       "<Figure size 1000x600 with 1 Axes>"
      ]
     },
     "metadata": {},
     "output_type": "display_data"
    }
   ],
   "source": [
    "# Visualize model comparison\n",
    "plt.figure(figsize=(10,6))\n",
    "plt.bar(comparison_df['Model'], comparison_df['Mean Accuracy'])\n",
    "plt.title('Model Accuracy Comparison')\n",
    "plt.xticks(rotation=45)\n",
    "plt.ylabel('Mean Accuracy')\n",
    "plt.tight_layout()\n",
    "plt.show()"
   ]
  },
  {
   "cell_type": "code",
   "execution_count": 404,
   "metadata": {},
   "outputs": [
    {
     "name": "stdout",
     "output_type": "stream",
     "text": [
      "Final model evaluation on test set using smote:\n",
      "              precision    recall  f1-score   support\n",
      "\n",
      "           0       0.88      0.47      0.61       863\n",
      "           1       0.64      0.94      0.76       876\n",
      "\n",
      "    accuracy                           0.71      1739\n",
      "   macro avg       0.76      0.70      0.69      1739\n",
      "weighted avg       0.76      0.71      0.69      1739\n",
      "\n"
     ]
    }
   ],
   "source": [
    "### Final prediction and evaluation on test set\n",
    "\n",
    "# using smote\n",
    "\n",
    "\n",
    "final_model = SVC(kernel='rbf', probability=True)\n",
    "final_model.fit(X_train_smote, y_train_smote)\n",
    "\n",
    "print(\"Final model evaluation on test set using smote:\")\n",
    "print(classification_report(y_test, final_model.predict(X_test)))\n",
    "\n"
   ]
  },
  {
   "cell_type": "code",
   "execution_count": 405,
   "metadata": {},
   "outputs": [
    {
     "name": "stdout",
     "output_type": "stream",
     "text": [
      "[[394 469]\n",
      " [ 54 822]]\n"
     ]
    },
    {
     "data": {
      "image/png": "[encoded data removed]",
      "text/plain": [
       "<Figure size 800x600 with 2 Axes>"
      ]
     },
     "metadata": {},
     "output_type": "display_data"
    }
   ],
   "source": [
    "# 1. Make predictions on test set\n",
    "y_pred = svm.predict(X_test)  # Make sure to use X_test, not X_val_fold\n",
    "\n",
    "# 2. Now create confusion matrix\n",
    "from sklearn.metrics import confusion_matrix\n",
    "print(confusion_matrix(y_test, y_pred))\n",
    "\n",
    "# 3. For better visualization, you can add:\n",
    "import seaborn as sns\n",
    "import matplotlib.pyplot as plt\n",
    "\n",
    "cm = confusion_matrix(y_test, y_pred)\n",
    "plt.figure(figsize=(8,6))\n",
    "sns.heatmap(cm, annot=True, fmt='d', cmap='Blues')\n",
    "plt.title('Confusion Matrix')\n",
    "plt.ylabel('True Label')\n",
    "plt.xlabel('Predicted Label')\n",
    "plt.show()"
   ]
  }
 ],
 "metadata": {
  "kernelspec": {
   "display_name": "py39_env",
   "language": "python",
   "name": "python3"
  },
  "language_info": {
   "codemirror_mode": {
    "name": "ipython",
    "version": 3
   },
   "file_extension": ".py",
   "mimetype": "text/x-python",
   "name": "python",
   "nbconvert_exporter": "python",
   "pygments_lexer": "ipython3",
   "version": "3.9.20"
  }
 },
 "nbformat": 4,
 "nbformat_minor": 2
}
